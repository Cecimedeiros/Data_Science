{
  "nbformat": 4,
  "nbformat_minor": 0,
  "metadata": {
    "colab": {
      "provenance": [],
      "authorship_tag": "ABX9TyOmzBiiZgkufzWbJHDDLOLJ",
      "include_colab_link": true
    },
    "kernelspec": {
      "name": "python3",
      "display_name": "Python 3"
    },
    "language_info": {
      "name": "python"
    }
  },
  "cells": [
    {
      "cell_type": "markdown",
      "metadata": {
        "id": "view-in-github",
        "colab_type": "text"
      },
      "source": [
        "<a href=\"https://colab.research.google.com/github/Cecimedeiros/Data_Science/blob/main/Desafios_alura.ipynb\" target=\"_parent\"><img src=\"https://colab.research.google.com/assets/colab-badge.svg\" alt=\"Open In Colab\"/></a>"
      ]
    },
    {
      "cell_type": "markdown",
      "source": [
        "TESTES E DESAFIOS DAS AULAS DE PYTHON PARA DATA SCIENCE\n"
      ],
      "metadata": {
        "id": "EPC3S_4fhb4_"
      }
    },
    {
      "cell_type": "code",
      "source": [
        "from google.colab import drive\n",
        "drive.mount('/content/drive')\n"
      ],
      "metadata": {
        "id": "73spTGYh0RSA",
        "outputId": "497f9fc3-1f77-4d39-9ceb-b992e91d2f88",
        "colab": {
          "base_uri": "https://localhost:8080/"
        }
      },
      "execution_count": null,
      "outputs": [
        {
          "output_type": "stream",
          "name": "stdout",
          "text": [
            "Drive already mounted at /content/drive; to attempt to forcibly remount, call drive.mount(\"/content/drive\", force_remount=True).\n"
          ]
        }
      ]
    },
    {
      "cell_type": "code",
      "execution_count": null,
      "metadata": {
        "colab": {
          "base_uri": "https://localhost:8080/"
        },
        "id": "CM1-xs9UhbDP",
        "outputId": "c8e5cef6-88e0-4fe8-8604-6fee532e9181"
      },
      "outputs": [
        {
          "output_type": "stream",
          "name": "stdout",
          "text": [
            "Qual o número de participantes do sorteio? 50\n",
            "16\n"
          ]
        }
      ],
      "source": [
        "import math\n",
        "from random import randrange, sample\n",
        "\n",
        "numero=int(input(\"Qual o número de participantes do sorteio? \"))\n",
        "\n",
        "sorteio= randrange(numero)\n",
        "print (sorteio)\n"
      ]
    },
    {
      "cell_type": "code",
      "source": [
        "import math\n",
        "from random import randrange, sample\n",
        "\n",
        "token = randrange (1000,9998,2)\n",
        "\n",
        "nome= input(\"Digite seu nome: \")\n",
        "\n",
        "print(f\"Olá, {nome}, o seu token de acesso é {token}! Seja bem-vinda! \")"
      ],
      "metadata": {
        "colab": {
          "base_uri": "https://localhost:8080/"
        },
        "id": "iOBb9nNZkey8",
        "outputId": "42512691-b5aa-4412-fd19-2a2b567d2b7f"
      },
      "execution_count": null,
      "outputs": [
        {
          "output_type": "stream",
          "name": "stdout",
          "text": [
            "Digite seu nome: ana\n",
            "Olá, ana, o seu token de acesso é 1888! Seja bem-vinda! \n"
          ]
        }
      ]
    },
    {
      "cell_type": "code",
      "source": [
        "from random import sample\n",
        "\n",
        "frutas = ['maçã', 'banana', 'uva', 'pêra',\n",
        "          'manga', 'coco', 'melancia', 'mamão',\n",
        "          'laranja', 'abacaxi', 'kiwi', 'ameixa']\n",
        "\n",
        "salada=sample(frutas,3)\n",
        "print (f\"Sua salada será composta de { ', ' .join(salada)}!\")\n"
      ],
      "metadata": {
        "colab": {
          "base_uri": "https://localhost:8080/"
        },
        "id": "zfdy_uImleXf",
        "outputId": "4242b014-d35c-48d6-ce7d-42e74e86240e"
      },
      "execution_count": null,
      "outputs": [
        {
          "output_type": "stream",
          "name": "stdout",
          "text": [
            "Sua salada será composta de maçã, uva, laranja!\n"
          ]
        }
      ]
    },
    {
      "cell_type": "code",
      "source": [
        "from random import sample\n",
        "\n",
        "frutas = ['maçã', 'banana', 'uva', 'pêra',\n",
        "          'manga', 'coco', 'melancia', 'mamão',\n",
        "          'laranja', 'abacaxi', 'kiwi', 'ameixa']\n",
        "\n",
        "salada=sample(frutas,3)\n",
        "\n",
        "if len(salada)>1:\n",
        "  salada_str= ', '.join(salada[:-1]) + ' e ' + salada[-1]\n",
        "else:\n",
        "  salada_str= salada[0]\n",
        "\n",
        "print (f\"Sua salada será composta de {salada_str}!\")"
      ],
      "metadata": {
        "colab": {
          "base_uri": "https://localhost:8080/"
        },
        "id": "VADiBbAHnSkU",
        "outputId": "7358eb84-ed71-4a92-94bb-685ac1e16101"
      },
      "execution_count": null,
      "outputs": [
        {
          "output_type": "stream",
          "name": "stdout",
          "text": [
            "Sua salada será composta de coco, banana e melancia!\n"
          ]
        }
      ]
    },
    {
      "cell_type": "code",
      "source": [
        "from math import sqrt\n",
        "\n",
        "numeros = [2, 8, 15, 23, 91, 112, 256]\n",
        "\n",
        "for i in numeros:\n",
        "  raiz=sqrt(i)\n",
        "\n",
        "  if raiz.is_integer ():\n",
        "    print (int(raiz), \"É um número inteiro\")\n",
        "  else:\n",
        "    print ((round (raiz, 2)),\"Não é um número inteiro\")\n"
      ],
      "metadata": {
        "colab": {
          "base_uri": "https://localhost:8080/"
        },
        "id": "OOGG2Wd-oOrr",
        "outputId": "92be0ac8-3f42-47e8-ed82-4d9634f19bca"
      },
      "execution_count": null,
      "outputs": [
        {
          "output_type": "stream",
          "name": "stdout",
          "text": [
            "1.41 Não é um número inteiro\n",
            "2.83 Não é um número inteiro\n",
            "3.87 Não é um número inteiro\n",
            "4.8 Não é um número inteiro\n",
            "9.54 Não é um número inteiro\n",
            "10.58 Não é um número inteiro\n",
            "16 É um número inteiro\n"
          ]
        }
      ]
    },
    {
      "cell_type": "code",
      "source": [
        "from math import pow\n",
        "area=int(input(\"Informe a quantidade de metros da área circular: \" ))\n",
        "pi= 3.14\n",
        "area_calculada= pi * pow(area,2)\n",
        "print (area_calculada)\n",
        "\n"
      ],
      "metadata": {
        "colab": {
          "base_uri": "https://localhost:8080/"
        },
        "id": "rD4Np6Ubv2Lj",
        "outputId": "2a12331e-e315-4bf7-a825-611a4dee7de3"
      },
      "execution_count": null,
      "outputs": [
        {
          "output_type": "stream",
          "name": "stdout",
          "text": [
            "Informe a quantidade de metros da área circular: 10\n",
            "314.0\n"
          ]
        }
      ]
    },
    {
      "cell_type": "code",
      "source": [
        "from google.colab import drive\n",
        "drive.mount('/content/drive')"
      ],
      "metadata": {
        "id": "p1GLISPlycgD"
      },
      "execution_count": null,
      "outputs": []
    }
  ]
}